{
 "cells": [
  {
   "cell_type": "markdown",
   "metadata": {},
   "source": [
    " # Final Idea - Airport idea"
   ]
  },
  {
   "cell_type": "markdown",
   "metadata": {},
   "source": [
    "**Airport Plan –** \n",
    "\n",
    "Gate number/for domestic or international\n",
    "\n",
    "Destination \n",
    "\n",
    "Classes in airplane\n",
    "\n",
    "Delays (real time)\n",
    "\n",
    "Flight time \n",
    "\n",
    "Gate \n",
    "\n",
    "Goal = To find out which factors have the most impact on flight time accuracy and probability of delays.\n",
    "\n",
    "\n",
    "1) The business plan is to run a private airport where we service a large variety of airlines for both domestic and international trips. Through this, we will be analysing historical and real time data from the columns and intend to use this information to make delays as minimal and as short as possible. There are two possible sources when looking at delays, one is dealing with the inefficiency of the airport and the other one would be related to any form of change in arrival or departure times for the airplanes themselves. Our goal is twofold; to analyse data to predict delays of airlines and to reduce inefficiencies of the airport itself.\n",
    "\n",
    "\n",
    "2) Unlike traditional airlines and airports which work only on improving their own products or services without taking into consideration the other parties involved, we plan to work on both sectors involved with the result of giving a seamless and accurate timed service to our customers and partners.\n",
    "\n",
    "\n",
    "3) While the airport business is not new, the improvements we plan to make by analysing data are new to the field and could be a potentially revolutionary factor for the industry as a whole. With the concept of having a better idea on where delays will occur, we can relay this information to the airlines so they can make changes to resolve the issue as well as to customers so they are aware if their flight will be delayed.\n",
    "\n",
    "\n",
    "4) As a pivotal industry, the airport business runs 24/7, 365 days of the year. The airport, based on availability and resource capacity, gives airlines the timeframes for acceptable departure and arrival times. The airlines then go through these times and based on the most valuable time, pick the specific time for landing and take-off. \n",
    "\n",
    "\n",
    "5) Since our end goal is the minimization of the delay times, our end user data would be the delay timings (which would be used to infer relationships with the other attributes).\n",
    "\n",
    "6) Description of the Tables.\n",
    "\n",
    "\n",
    "The Gate Number would be a descriptor for whether a gate is used for international travel or domestic travel, as well as what airline is associated with the gate considering how come airlines focus on domestic or international flights. For example: gates 1-27 might be domestic and gates 28-34 would be used for international travel.\n",
    "\n",
    "\n",
    "Destination would be described as the location that a flight would either be flying from or flying too. Certain destinations may have more frequent delays than others. Frequently, destinations that are farther away are more likely to be delayed due to complications such as inclement weather or issues with the plane. Also, certain destinations may have an airport that is less organized and experienced than ours leading to uncontrollable delays. \n",
    "\n",
    "\n",
    "Classes in the airplane refer to the class of seats that are available on each plane. If there is a higher percentage of high-class seats on a plane, the airport would have to put out more compensation to those high-class customers if their flight gets delayed. So, the airport is likely to prioritize high value flights to not get delayed over low value flights. \n",
    "\n",
    "\n",
    "The delay(s) value would constitute the amount of delays over a certain period. The airport would classify if a delay is negligible, impactful, or catastrophic using the total flight time vs the delay. These categories are determined by how long the delay is. So, a negligible delay would be anything 10 minutes or less, an impactful delay would be anything between 10-60 minutes, and a catastrophic delay would be anything over an hour. The value couldn’t be negative because there either is a delay or its on time. If a flight is early the passengers don’t get to board until the specific time of boarding. \n",
    "The flight times would consist of the average flight time to a specific destination and the actual recorded flight time that the airport reports. It would be completely dependent on whether it’s a connecting flight or not, the destination, and the total delay. This value could either be negative or positive considering if there is a delay or if it is early. \n"
   ]
  },
  {
   "cell_type": "markdown",
   "metadata": {},
   "source": [
    "## Tables for the idea"
   ]
  },
  {
   "cell_type": "markdown",
   "metadata": {},
   "source": [
    "**Dynamic table**\n",
    "\n",
    "| Delay ID | Delay time        | \n",
    "|--------|-------------|\n",
    "| A | 15 min          | \n",
    "| B | 30 min          | \n",
    "| C    | 45 min         | \n",
    "| D   | 60 min          | \n",
    "| E   | 75 min          | \n",
    "| F   | 90 min          | "
   ]
  },
  {
   "cell_type": "markdown",
   "metadata": {},
   "source": [
    "**Atribute tables**\n",
    "\n",
    "| Delay ID | Gate Number        | \n",
    "|--------|-------------|\n",
    "| D | Gate 1          | \n",
    "| A | Gate 2          | \n",
    "| D    | Gate 3         | \n",
    "| E   | Gate 4          | \n",
    "| A   | Gate 5          | \n",
    "| C   | Gate 6          | \n",
    "\n",
    "\n",
    "| Delay ID | Destination       | \n",
    "|--------|-------------|\n",
    "| C | London          | \n",
    "| B | Paris          | \n",
    "| F    | New York         | \n",
    "| A   | Beijing          | \n",
    "| A   | Tokyo          | \n",
    "| D   | Dubai          | \n",
    "\n",
    "\n",
    "| Delay ID | Class of passesnger       | \n",
    "|--------|-------------|\n",
    "| D | Economy          | \n",
    "| F | Economy          | \n",
    "| C    | Economy         | \n",
    "| A   | Business          | \n",
    "| A   | First Class          | \n",
    "| A   | First Class          | \n",
    "\n",
    "\n",
    "| Delay ID | Flight Duration        | \n",
    "|--------|-------------|\n",
    "| A | 30 min          | \n",
    "| B | 1 hr          | \n",
    "| E    | 3 hrs         | \n",
    "| F   | 8 hrs          | \n",
    "| D   | 15 hrs          | \n",
    "| D   | 20 hrs          | \n"
   ]
  },
  {
   "cell_type": "markdown",
   "metadata": {},
   "source": [
    "### Entity relationship diagram"
   ]
  },
  {
   "cell_type": "markdown",
   "metadata": {},
   "source": [
    "https://drive.google.com/file/d/1OxRwK9ouOLlmr8PLqP0633zOx1d1ydKi/view?usp=sharing\n",
    "    \n",
    "    "
   ]
  },
  {
   "cell_type": "code",
   "execution_count": null,
   "metadata": {},
   "outputs": [],
   "source": []
  },
  {
   "cell_type": "code",
   "execution_count": null,
   "metadata": {},
   "outputs": [],
   "source": []
  }
 ],
 "metadata": {
  "kernelspec": {
   "display_name": "Python 3",
   "language": "python",
   "name": "python3"
  },
  "language_info": {
   "codemirror_mode": {
    "name": "ipython",
    "version": 3
   },
   "file_extension": ".py",
   "mimetype": "text/x-python",
   "name": "python",
   "nbconvert_exporter": "python",
   "pygments_lexer": "ipython3",
   "version": "3.7.4"
  }
 },
 "nbformat": 4,
 "nbformat_minor": 4
}
